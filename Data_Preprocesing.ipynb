{
 "cells": [
  {
   "cell_type": "code",
   "execution_count": 15,
   "id": "ecf587fe-10d2-48e9-96ad-25042dc55d65",
   "metadata": {},
   "outputs": [],
   "source": [
    "import pandas as pd\n",
    "import numpy as np\n",
    "import warnings\n",
    "warnings.filterwarnings('ignore')"
   ]
  },
  {
   "cell_type": "code",
   "execution_count": 2,
   "id": "deafec08-7730-47a7-a9a9-46fb7f7ccd45",
   "metadata": {},
   "outputs": [],
   "source": [
    "data = pd.read_pickle('data_loading.pkl')"
   ]
  },
  {
   "cell_type": "code",
   "execution_count": 3,
   "id": "a5a2a99f-e0c4-4781-ba31-286f3f7e0b1f",
   "metadata": {},
   "outputs": [
    {
     "data": {
      "text/html": [
       "<div>\n",
       "<style scoped>\n",
       "    .dataframe tbody tr th:only-of-type {\n",
       "        vertical-align: middle;\n",
       "    }\n",
       "\n",
       "    .dataframe tbody tr th {\n",
       "        vertical-align: top;\n",
       "    }\n",
       "\n",
       "    .dataframe thead th {\n",
       "        text-align: right;\n",
       "    }\n",
       "</style>\n",
       "<table border=\"1\" class=\"dataframe\">\n",
       "  <thead>\n",
       "    <tr style=\"text-align: right;\">\n",
       "      <th></th>\n",
       "      <th>Created</th>\n",
       "      <th>Product_ID</th>\n",
       "      <th>Source</th>\n",
       "      <th>Mobile</th>\n",
       "      <th>EMAIL</th>\n",
       "      <th>Sales_Agent</th>\n",
       "      <th>Location</th>\n",
       "      <th>Delivery_Mode</th>\n",
       "      <th>Status</th>\n",
       "    </tr>\n",
       "  </thead>\n",
       "  <tbody>\n",
       "    <tr>\n",
       "      <th>0</th>\n",
       "      <td>14-11-2018 10:05</td>\n",
       "      <td></td>\n",
       "      <td>Website</td>\n",
       "      <td>984XXXXXXX</td>\n",
       "      <td>aXXXXXXX@gmail.com</td>\n",
       "      <td>Sales-Agent-11</td>\n",
       "      <td></td>\n",
       "      <td>Mode-5</td>\n",
       "      <td>Open</td>\n",
       "    </tr>\n",
       "    <tr>\n",
       "      <th>1</th>\n",
       "      <td>14-11-2018 09:22</td>\n",
       "      <td></td>\n",
       "      <td>Website</td>\n",
       "      <td>XXXXXXX</td>\n",
       "      <td>#VALUE!</td>\n",
       "      <td>Sales-Agent-10</td>\n",
       "      <td></td>\n",
       "      <td>Mode-5</td>\n",
       "      <td>Open</td>\n",
       "    </tr>\n",
       "    <tr>\n",
       "      <th>2</th>\n",
       "      <td>14-11-2018 09:21</td>\n",
       "      <td></td>\n",
       "      <td>Website</td>\n",
       "      <td>XXXXXXX</td>\n",
       "      <td>dXXXXXXX@yahoo.com</td>\n",
       "      <td>Sales-Agent-10</td>\n",
       "      <td></td>\n",
       "      <td>Mode-5</td>\n",
       "      <td>Open</td>\n",
       "    </tr>\n",
       "    <tr>\n",
       "      <th>3</th>\n",
       "      <td>14-11-2018 08:46</td>\n",
       "      <td></td>\n",
       "      <td>Website</td>\n",
       "      <td>XXXXXXX</td>\n",
       "      <td>wXXXXXXX@gmail.com</td>\n",
       "      <td>Sales-Agent-10</td>\n",
       "      <td></td>\n",
       "      <td>Mode-5</td>\n",
       "      <td>Open</td>\n",
       "    </tr>\n",
       "    <tr>\n",
       "      <th>4</th>\n",
       "      <td>14-11-2018 07:34</td>\n",
       "      <td></td>\n",
       "      <td>Website</td>\n",
       "      <td>XXXXXXX</td>\n",
       "      <td>cXXXXXXX@gmail.com</td>\n",
       "      <td>Sales-Agent-10</td>\n",
       "      <td></td>\n",
       "      <td>Mode-5</td>\n",
       "      <td>Open</td>\n",
       "    </tr>\n",
       "    <tr>\n",
       "      <th>...</th>\n",
       "      <td>...</td>\n",
       "      <td>...</td>\n",
       "      <td>...</td>\n",
       "      <td>...</td>\n",
       "      <td>...</td>\n",
       "      <td>...</td>\n",
       "      <td>...</td>\n",
       "      <td>...</td>\n",
       "      <td>...</td>\n",
       "    </tr>\n",
       "    <tr>\n",
       "      <th>7417</th>\n",
       "      <td>28-04-2018 09:45</td>\n",
       "      <td>9</td>\n",
       "      <td>Call</td>\n",
       "      <td></td>\n",
       "      <td>aXXXXXXX@gmail.com</td>\n",
       "      <td>Sales-Agent-6</td>\n",
       "      <td>Mumbai</td>\n",
       "      <td>Mode-4</td>\n",
       "      <td>LOST</td>\n",
       "    </tr>\n",
       "    <tr>\n",
       "      <th>7418</th>\n",
       "      <td>28-04-2018 09:43</td>\n",
       "      <td>15</td>\n",
       "      <td>Call</td>\n",
       "      <td></td>\n",
       "      <td>#VALUE!</td>\n",
       "      <td>Sales-Agent-12</td>\n",
       "      <td>Other Locations</td>\n",
       "      <td>Mode-5</td>\n",
       "      <td>LOST</td>\n",
       "    </tr>\n",
       "    <tr>\n",
       "      <th>7419</th>\n",
       "      <td>28-04-2018 09:20</td>\n",
       "      <td>5</td>\n",
       "      <td>Live Chat-Direct</td>\n",
       "      <td></td>\n",
       "      <td>sXXXXXXX@gmail.com</td>\n",
       "      <td>Sales-Agent-11</td>\n",
       "      <td>Bangalore</td>\n",
       "      <td>Mode-1</td>\n",
       "      <td>Not Responding</td>\n",
       "    </tr>\n",
       "    <tr>\n",
       "      <th>7420</th>\n",
       "      <td>28-04-2018 08:04</td>\n",
       "      <td>21</td>\n",
       "      <td>CRM form</td>\n",
       "      <td></td>\n",
       "      <td>YXXXXXXX@gmail.com</td>\n",
       "      <td>Sales-Agent-4</td>\n",
       "      <td>Other Locations</td>\n",
       "      <td>Mode-1</td>\n",
       "      <td>Just Enquiry</td>\n",
       "    </tr>\n",
       "    <tr>\n",
       "      <th>7421</th>\n",
       "      <td>28-04-2018 07:54</td>\n",
       "      <td>25</td>\n",
       "      <td>Website</td>\n",
       "      <td></td>\n",
       "      <td>cXXXXXXX@gmail.com</td>\n",
       "      <td>Sales-Agent-3</td>\n",
       "      <td>Chennai</td>\n",
       "      <td>Mode-1</td>\n",
       "      <td>CONVERTED</td>\n",
       "    </tr>\n",
       "  </tbody>\n",
       "</table>\n",
       "<p>7422 rows × 9 columns</p>\n",
       "</div>"
      ],
      "text/plain": [
       "               Created Product_ID            Source      Mobile  \\\n",
       "0     14-11-2018 10:05                      Website  984XXXXXXX   \n",
       "1     14-11-2018 09:22                      Website     XXXXXXX   \n",
       "2     14-11-2018 09:21                      Website     XXXXXXX   \n",
       "3     14-11-2018 08:46                      Website     XXXXXXX   \n",
       "4     14-11-2018 07:34                      Website     XXXXXXX   \n",
       "...                ...        ...               ...         ...   \n",
       "7417  28-04-2018 09:45          9              Call               \n",
       "7418  28-04-2018 09:43         15              Call               \n",
       "7419  28-04-2018 09:20          5  Live Chat-Direct               \n",
       "7420  28-04-2018 08:04         21          CRM form               \n",
       "7421  28-04-2018 07:54         25           Website               \n",
       "\n",
       "                   EMAIL     Sales_Agent         Location Delivery_Mode  \\\n",
       "0     aXXXXXXX@gmail.com  Sales-Agent-11                         Mode-5   \n",
       "1                #VALUE!  Sales-Agent-10                         Mode-5   \n",
       "2     dXXXXXXX@yahoo.com  Sales-Agent-10                         Mode-5   \n",
       "3     wXXXXXXX@gmail.com  Sales-Agent-10                         Mode-5   \n",
       "4     cXXXXXXX@gmail.com  Sales-Agent-10                         Mode-5   \n",
       "...                  ...             ...              ...           ...   \n",
       "7417  aXXXXXXX@gmail.com   Sales-Agent-6           Mumbai        Mode-4   \n",
       "7418             #VALUE!  Sales-Agent-12  Other Locations        Mode-5   \n",
       "7419  sXXXXXXX@gmail.com  Sales-Agent-11        Bangalore        Mode-1   \n",
       "7420  YXXXXXXX@gmail.com   Sales-Agent-4  Other Locations        Mode-1   \n",
       "7421  cXXXXXXX@gmail.com   Sales-Agent-3          Chennai        Mode-1   \n",
       "\n",
       "              Status  \n",
       "0               Open  \n",
       "1               Open  \n",
       "2               Open  \n",
       "3               Open  \n",
       "4               Open  \n",
       "...              ...  \n",
       "7417            LOST  \n",
       "7418            LOST  \n",
       "7419  Not Responding  \n",
       "7420    Just Enquiry  \n",
       "7421       CONVERTED  \n",
       "\n",
       "[7422 rows x 9 columns]"
      ]
     },
     "execution_count": 3,
     "metadata": {},
     "output_type": "execute_result"
    }
   ],
   "source": [
    "data"
   ]
  },
  {
   "cell_type": "markdown",
   "id": "a0576464-a7b6-41ad-a99f-e6322bfa5329",
   "metadata": {},
   "source": [
    "### Preprocessing"
   ]
  },
  {
   "cell_type": "code",
   "execution_count": 4,
   "id": "2792d4b8-c68b-4925-93ea-bb9cccf3a6eb",
   "metadata": {},
   "outputs": [],
   "source": [
    "# Removing the duplicate rows \n",
    "data.drop_duplicates(inplace = True)"
   ]
  },
  {
   "cell_type": "code",
   "execution_count": 5,
   "id": "2e36f84b-4fa4-4c29-a1c6-00e9e4ae6702",
   "metadata": {},
   "outputs": [],
   "source": [
    "# dropping unneccesary columns \n",
    "data.drop(['Mobile','EMAIL'], axis =1, inplace = True)"
   ]
  },
  {
   "cell_type": "code",
   "execution_count": 8,
   "id": "c26c7f57-85ab-48e6-8c60-fcf22e39c3a6",
   "metadata": {},
   "outputs": [],
   "source": [
    "# Replacing blank values in data by nan\n",
    "data.replace('', np.nan, inplace=True)"
   ]
  },
  {
   "cell_type": "code",
   "execution_count": 9,
   "id": "415e3f70-095c-4d76-80d6-1fcfce77bf55",
   "metadata": {},
   "outputs": [
    {
     "data": {
      "text/plain": [
       "Created           0\n",
       "Product_ID       56\n",
       "Source           17\n",
       "Sales_Agent      23\n",
       "Location         56\n",
       "Delivery_Mode     0\n",
       "Status            0\n",
       "dtype: int64"
      ]
     },
     "execution_count": 9,
     "metadata": {},
     "output_type": "execute_result"
    }
   ],
   "source": [
    "data.isnull().sum()"
   ]
  },
  {
   "cell_type": "code",
   "execution_count": 10,
   "id": "830fda5f-4780-43ed-b104-780d537a1331",
   "metadata": {},
   "outputs": [],
   "source": [
    "# Replacing null in product_id column by mode "
   ]
  },
  {
   "cell_type": "code",
   "execution_count": 11,
   "id": "b25a2f1e-fd46-48ea-add2-06c3c9484efb",
   "metadata": {},
   "outputs": [
    {
     "data": {
      "text/plain": [
       "56"
      ]
     },
     "execution_count": 11,
     "metadata": {},
     "output_type": "execute_result"
    }
   ],
   "source": [
    "data['Product_ID'].isnull().sum()"
   ]
  },
  {
   "cell_type": "code",
   "execution_count": 12,
   "id": "7c5f4583-f1c8-4766-bab8-b76e330287d4",
   "metadata": {},
   "outputs": [
    {
     "data": {
      "text/plain": [
       "Product_ID\n",
       "18    1711\n",
       "15    1518\n",
       "19    1189\n",
       "9      992\n",
       "27     739\n",
       "5      487\n",
       "10     168\n",
       "1      105\n",
       "20     102\n",
       "25      90\n",
       "21      66\n",
       "2       38\n",
       "12      36\n",
       "26      31\n",
       "14      27\n",
       "11      12\n",
       "22       8\n",
       "3        7\n",
       "17       7\n",
       "6        7\n",
       "8        6\n",
       "13       5\n",
       "24       3\n",
       "16       3\n",
       "23       2\n",
       "0        2\n",
       "28       1\n",
       "7        1\n",
       "4        1\n",
       "Name: count, dtype: int64"
      ]
     },
     "execution_count": 12,
     "metadata": {},
     "output_type": "execute_result"
    }
   ],
   "source": [
    "data['Product_ID'].value_counts()"
   ]
  },
  {
   "cell_type": "code",
   "execution_count": 16,
   "id": "912c2647-c7a2-4599-836e-224d8e5f9749",
   "metadata": {},
   "outputs": [],
   "source": [
    "data['Product_ID'].fillna(data['Product_ID'].mode()[0], inplace=True)"
   ]
  },
  {
   "cell_type": "code",
   "execution_count": 17,
   "id": "4cb6fa6c-00f6-49f1-bd51-660b90c25268",
   "metadata": {},
   "outputs": [
    {
     "data": {
      "text/plain": [
       "0"
      ]
     },
     "execution_count": 17,
     "metadata": {},
     "output_type": "execute_result"
    }
   ],
   "source": [
    "data['Product_ID'].isnull().sum()"
   ]
  },
  {
   "cell_type": "code",
   "execution_count": 18,
   "id": "f54d029d-14a7-4f94-829d-45392e665e8c",
   "metadata": {},
   "outputs": [],
   "source": [
    "# converting type of product_id to int \n",
    "data['Product_ID'] = data['Product_ID'].astype(int)"
   ]
  },
  {
   "cell_type": "code",
   "execution_count": 19,
   "id": "1c60d473-7924-4a50-a7c9-71d5c82d9ff1",
   "metadata": {},
   "outputs": [],
   "source": [
    "# Replacing null value in source column by mode "
   ]
  },
  {
   "cell_type": "code",
   "execution_count": 20,
   "id": "66cedf05-843b-40fd-a05c-f9474b504eed",
   "metadata": {},
   "outputs": [
    {
     "data": {
      "text/plain": [
       "17"
      ]
     },
     "execution_count": 20,
     "metadata": {},
     "output_type": "execute_result"
    }
   ],
   "source": [
    "data['Source'].isnull().sum()"
   ]
  },
  {
   "cell_type": "code",
   "execution_count": 21,
   "id": "9afbc39b-9ed7-47f4-a4cc-8bdf9437efd5",
   "metadata": {},
   "outputs": [
    {
     "data": {
      "text/plain": [
       "Source\n",
       "Call                             2547\n",
       "Live Chat-Direct                 1834\n",
       "Website                          1592\n",
       "Live Chat-Google Organic          274\n",
       "Live Chat -PPC                    249\n",
       "Live Chat-Blog                    237\n",
       "Customer Referral                 180\n",
       "US Website                        137\n",
       "Just Dial                          56\n",
       "Existing Client                    51\n",
       "Personal Contact                   50\n",
       "Live Chat-CPC                      50\n",
       "By Recommendation                  32\n",
       "CRM form                           23\n",
       "Existing Customer                  22\n",
       "Live Chat-Google Ads               21\n",
       "Campaign                           19\n",
       "E-mail Campaign                    12\n",
       "Live Chat-Adwords Remarketing       7\n",
       "Live Chat-Quora                     2\n",
       "Other                               2\n",
       "SMS Campaign                        2\n",
       "Live Chat-Youtube                   2\n",
       "E-Mail Message                      1\n",
       "Live Chat-Justdial                  1\n",
       "Name: count, dtype: int64"
      ]
     },
     "execution_count": 21,
     "metadata": {},
     "output_type": "execute_result"
    }
   ],
   "source": [
    "data['Source'].value_counts()"
   ]
  },
  {
   "cell_type": "code",
   "execution_count": 22,
   "id": "da8b20e9-cb0b-43c0-a8bb-b3887e1ad091",
   "metadata": {},
   "outputs": [],
   "source": [
    "data['Source'].fillna(data['Source'].mode()[0], inplace=True)"
   ]
  },
  {
   "cell_type": "code",
   "execution_count": 23,
   "id": "786d8921-216a-4b88-9bc0-47a061b7be48",
   "metadata": {},
   "outputs": [
    {
     "data": {
      "text/plain": [
       "0"
      ]
     },
     "execution_count": 23,
     "metadata": {},
     "output_type": "execute_result"
    }
   ],
   "source": [
    "data['Source'].isnull().sum()"
   ]
  },
  {
   "cell_type": "code",
   "execution_count": 24,
   "id": "4016b373-73a5-4c19-9d28-dbe861d235c5",
   "metadata": {},
   "outputs": [],
   "source": [
    "# Replacing null values in sales_agent column by mode "
   ]
  },
  {
   "cell_type": "code",
   "execution_count": 25,
   "id": "a9c8ef91-097e-43ab-b6f0-94f48c27e677",
   "metadata": {},
   "outputs": [
    {
     "data": {
      "text/plain": [
       "23"
      ]
     },
     "execution_count": 25,
     "metadata": {},
     "output_type": "execute_result"
    }
   ],
   "source": [
    "data['Sales_Agent'].isnull().sum()"
   ]
  },
  {
   "cell_type": "code",
   "execution_count": 26,
   "id": "f1050683-e14b-41b0-b5bb-54e60c144645",
   "metadata": {},
   "outputs": [
    {
     "data": {
      "text/plain": [
       "Sales_Agent\n",
       "Sales-Agent-4     1500\n",
       "Sales-Agent-11    1420\n",
       "Sales-Agent-5     1190\n",
       "Sales-Agent-9      879\n",
       "Sales-Agent-3      781\n",
       "Sales-Agent-7      736\n",
       "Sales-Agent-2      389\n",
       "Sales-Agent-12     269\n",
       "Sales-Agent-6      114\n",
       "Sales-Agent-8       68\n",
       "Sales-Agent-10      47\n",
       "Sales-Agent-1        4\n",
       "Name: count, dtype: int64"
      ]
     },
     "execution_count": 26,
     "metadata": {},
     "output_type": "execute_result"
    }
   ],
   "source": [
    "data['Sales_Agent'].value_counts()"
   ]
  },
  {
   "cell_type": "code",
   "execution_count": 27,
   "id": "a1d92bae-8cda-4558-9f9b-e8ebd0ee413d",
   "metadata": {},
   "outputs": [],
   "source": [
    "data['Sales_Agent'].fillna(data['Sales_Agent'].mode()[0],inplace =True)"
   ]
  },
  {
   "cell_type": "code",
   "execution_count": 28,
   "id": "c50644f6-4e07-4d10-a2c6-eaa30357c2f1",
   "metadata": {},
   "outputs": [
    {
     "data": {
      "text/plain": [
       "0"
      ]
     },
     "execution_count": 28,
     "metadata": {},
     "output_type": "execute_result"
    }
   ],
   "source": [
    "data['Sales_Agent'].isnull().sum()"
   ]
  },
  {
   "cell_type": "code",
   "execution_count": 29,
   "id": "ec9ede1a-a837-47b9-a02f-4ce000fddff3",
   "metadata": {},
   "outputs": [],
   "source": [
    "# Replacing null values in location column by mode "
   ]
  },
  {
   "cell_type": "code",
   "execution_count": 30,
   "id": "fedda6d6-1407-468f-9242-4728b6bb1520",
   "metadata": {},
   "outputs": [
    {
     "data": {
      "text/plain": [
       "56"
      ]
     },
     "execution_count": 30,
     "metadata": {},
     "output_type": "execute_result"
    }
   ],
   "source": [
    "data['Location'].isnull().sum()"
   ]
  },
  {
   "cell_type": "code",
   "execution_count": 31,
   "id": "91ca0595-ed6f-42d8-830b-fe903af271b8",
   "metadata": {},
   "outputs": [
    {
     "data": {
      "text/plain": [
       "Location\n",
       "Other Locations    2500\n",
       "Bangalore          2084\n",
       "Chennai             909\n",
       "Hyderabad           528\n",
       "Delhi               471\n",
       "Mumbai              402\n",
       "Pune                142\n",
       "UAE                  79\n",
       "Trivandrum           58\n",
       "Kolkata              55\n",
       "USA                  45\n",
       "UK                   41\n",
       "AUSTRALIA            25\n",
       "Singapore            17\n",
       "Malaysia              4\n",
       "EUROPE                3\n",
       "Howrah                1\n",
       "Name: count, dtype: int64"
      ]
     },
     "execution_count": 31,
     "metadata": {},
     "output_type": "execute_result"
    }
   ],
   "source": [
    "data['Location'].value_counts()"
   ]
  },
  {
   "cell_type": "code",
   "execution_count": 32,
   "id": "9d09353c-56a9-4a32-a8ac-6331d6a2c178",
   "metadata": {},
   "outputs": [],
   "source": [
    "data['Location'].fillna(data['Location'].mode()[0], inplace =True)"
   ]
  },
  {
   "cell_type": "code",
   "execution_count": 33,
   "id": "f1e78743-5d71-4ccd-961c-252fdb0196ed",
   "metadata": {},
   "outputs": [
    {
     "data": {
      "text/plain": [
       "0"
      ]
     },
     "execution_count": 33,
     "metadata": {},
     "output_type": "execute_result"
    }
   ],
   "source": [
    "data['Location'].isnull().sum()"
   ]
  },
  {
   "cell_type": "code",
   "execution_count": 34,
   "id": "5e9a26d6-6410-49a9-8225-8fb1fc4f8741",
   "metadata": {},
   "outputs": [],
   "source": [
    "# handled null values in data "
   ]
  },
  {
   "cell_type": "code",
   "execution_count": 35,
   "id": "6f5b71e7-142d-45cf-9bea-8cbea5ec9923",
   "metadata": {},
   "outputs": [
    {
     "data": {
      "text/plain": [
       "Created          0\n",
       "Product_ID       0\n",
       "Source           0\n",
       "Sales_Agent      0\n",
       "Location         0\n",
       "Delivery_Mode    0\n",
       "Status           0\n",
       "dtype: int64"
      ]
     },
     "execution_count": 35,
     "metadata": {},
     "output_type": "execute_result"
    }
   ],
   "source": [
    "data.isnull().sum()"
   ]
  },
  {
   "cell_type": "code",
   "execution_count": 36,
   "id": "36dcda7e-6016-4e57-9ad7-f959fb9741f8",
   "metadata": {},
   "outputs": [
    {
     "name": "stdout",
     "output_type": "stream",
     "text": [
      "<class 'pandas.core.frame.DataFrame'>\n",
      "Index: 7420 entries, 0 to 7421\n",
      "Data columns (total 7 columns):\n",
      " #   Column         Non-Null Count  Dtype \n",
      "---  ------         --------------  ----- \n",
      " 0   Created        7420 non-null   object\n",
      " 1   Product_ID     7420 non-null   int32 \n",
      " 2   Source         7420 non-null   object\n",
      " 3   Sales_Agent    7420 non-null   object\n",
      " 4   Location       7420 non-null   object\n",
      " 5   Delivery_Mode  7420 non-null   object\n",
      " 6   Status         7420 non-null   object\n",
      "dtypes: int32(1), object(6)\n",
      "memory usage: 434.8+ KB\n"
     ]
    }
   ],
   "source": [
    "data.info()"
   ]
  },
  {
   "cell_type": "markdown",
   "id": "075a3954-befb-4e61-82a0-207e3b7de637",
   "metadata": {},
   "source": [
    "### Basic Feature Engineering"
   ]
  },
  {
   "cell_type": "code",
   "execution_count": 37,
   "id": "f68950fe-11cc-4fc6-a43c-42541f348f60",
   "metadata": {},
   "outputs": [],
   "source": [
    "# Extracting year,month,day,hour,minute from created column"
   ]
  },
  {
   "cell_type": "code",
   "execution_count": 38,
   "id": "01c130e0-dd57-402c-999d-0b254b4073fd",
   "metadata": {},
   "outputs": [
    {
     "data": {
      "text/plain": [
       "Created\n",
       "26-09-2018 11:30    4\n",
       "27-09-2018 11:00    4\n",
       "10-05-2018 12:30    4\n",
       "15-10-2018 10:36    4\n",
       "14-09-2018 12:00    4\n",
       "                   ..\n",
       "29-08-2018 13:08    1\n",
       "29-08-2018 15:26    1\n",
       "29-08-2018 15:39    1\n",
       "29-08-2018 15:54    1\n",
       "28-04-2018 07:54    1\n",
       "Name: count, Length: 6752, dtype: int64"
      ]
     },
     "execution_count": 38,
     "metadata": {},
     "output_type": "execute_result"
    }
   ],
   "source": [
    "data.Created.value_counts()"
   ]
  },
  {
   "cell_type": "code",
   "execution_count": 39,
   "id": "0b0f5b7c-f9e2-4447-88bc-722437160f29",
   "metadata": {},
   "outputs": [],
   "source": [
    "data['Created'] = pd.to_datetime(data['Created'], format='%d-%m-%Y %H:%M', errors='coerce')"
   ]
  },
  {
   "cell_type": "code",
   "execution_count": 40,
   "id": "d5719cbb-5133-42b9-a1a7-81e731adb5f1",
   "metadata": {},
   "outputs": [],
   "source": [
    "data['Year'] = data['Created'].dt.year        \n",
    "data['Month'] = data['Created'].dt.month     \n",
    "data['Day'] = data['Created'].dt.day          \n",
    "data['Hour'] = data['Created'].dt.hour        \n",
    "data['Minute'] = data['Created'].dt.minute    "
   ]
  },
  {
   "cell_type": "code",
   "execution_count": 41,
   "id": "e9ab425b-10fd-4113-8281-e52775327d1b",
   "metadata": {},
   "outputs": [
    {
     "data": {
      "text/plain": [
       "Year\n",
       "2018    7420\n",
       "Name: count, dtype: int64"
      ]
     },
     "execution_count": 41,
     "metadata": {},
     "output_type": "execute_result"
    }
   ],
   "source": [
    "data.Year.value_counts()  # year column has only 2018 year so we will drop it "
   ]
  },
  {
   "cell_type": "code",
   "execution_count": 42,
   "id": "3ea3e123-5b04-468c-922c-b9953c0b9ac6",
   "metadata": {},
   "outputs": [],
   "source": [
    "data.drop(['Created','Year'],axis =1, inplace = True)"
   ]
  },
  {
   "cell_type": "code",
   "execution_count": 43,
   "id": "062296fa-b7bc-44b7-a791-0c14ef855c3c",
   "metadata": {},
   "outputs": [
    {
     "data": {
      "text/html": [
       "<div>\n",
       "<style scoped>\n",
       "    .dataframe tbody tr th:only-of-type {\n",
       "        vertical-align: middle;\n",
       "    }\n",
       "\n",
       "    .dataframe tbody tr th {\n",
       "        vertical-align: top;\n",
       "    }\n",
       "\n",
       "    .dataframe thead th {\n",
       "        text-align: right;\n",
       "    }\n",
       "</style>\n",
       "<table border=\"1\" class=\"dataframe\">\n",
       "  <thead>\n",
       "    <tr style=\"text-align: right;\">\n",
       "      <th></th>\n",
       "      <th>Product_ID</th>\n",
       "      <th>Source</th>\n",
       "      <th>Sales_Agent</th>\n",
       "      <th>Location</th>\n",
       "      <th>Delivery_Mode</th>\n",
       "      <th>Status</th>\n",
       "      <th>Month</th>\n",
       "      <th>Day</th>\n",
       "      <th>Hour</th>\n",
       "      <th>Minute</th>\n",
       "    </tr>\n",
       "  </thead>\n",
       "  <tbody>\n",
       "    <tr>\n",
       "      <th>0</th>\n",
       "      <td>18</td>\n",
       "      <td>Website</td>\n",
       "      <td>Sales-Agent-11</td>\n",
       "      <td>Other Locations</td>\n",
       "      <td>Mode-5</td>\n",
       "      <td>Open</td>\n",
       "      <td>11</td>\n",
       "      <td>14</td>\n",
       "      <td>10</td>\n",
       "      <td>5</td>\n",
       "    </tr>\n",
       "    <tr>\n",
       "      <th>1</th>\n",
       "      <td>18</td>\n",
       "      <td>Website</td>\n",
       "      <td>Sales-Agent-10</td>\n",
       "      <td>Other Locations</td>\n",
       "      <td>Mode-5</td>\n",
       "      <td>Open</td>\n",
       "      <td>11</td>\n",
       "      <td>14</td>\n",
       "      <td>9</td>\n",
       "      <td>22</td>\n",
       "    </tr>\n",
       "    <tr>\n",
       "      <th>2</th>\n",
       "      <td>18</td>\n",
       "      <td>Website</td>\n",
       "      <td>Sales-Agent-10</td>\n",
       "      <td>Other Locations</td>\n",
       "      <td>Mode-5</td>\n",
       "      <td>Open</td>\n",
       "      <td>11</td>\n",
       "      <td>14</td>\n",
       "      <td>9</td>\n",
       "      <td>21</td>\n",
       "    </tr>\n",
       "    <tr>\n",
       "      <th>3</th>\n",
       "      <td>18</td>\n",
       "      <td>Website</td>\n",
       "      <td>Sales-Agent-10</td>\n",
       "      <td>Other Locations</td>\n",
       "      <td>Mode-5</td>\n",
       "      <td>Open</td>\n",
       "      <td>11</td>\n",
       "      <td>14</td>\n",
       "      <td>8</td>\n",
       "      <td>46</td>\n",
       "    </tr>\n",
       "    <tr>\n",
       "      <th>4</th>\n",
       "      <td>18</td>\n",
       "      <td>Website</td>\n",
       "      <td>Sales-Agent-10</td>\n",
       "      <td>Other Locations</td>\n",
       "      <td>Mode-5</td>\n",
       "      <td>Open</td>\n",
       "      <td>11</td>\n",
       "      <td>14</td>\n",
       "      <td>7</td>\n",
       "      <td>34</td>\n",
       "    </tr>\n",
       "    <tr>\n",
       "      <th>...</th>\n",
       "      <td>...</td>\n",
       "      <td>...</td>\n",
       "      <td>...</td>\n",
       "      <td>...</td>\n",
       "      <td>...</td>\n",
       "      <td>...</td>\n",
       "      <td>...</td>\n",
       "      <td>...</td>\n",
       "      <td>...</td>\n",
       "      <td>...</td>\n",
       "    </tr>\n",
       "    <tr>\n",
       "      <th>7417</th>\n",
       "      <td>9</td>\n",
       "      <td>Call</td>\n",
       "      <td>Sales-Agent-6</td>\n",
       "      <td>Mumbai</td>\n",
       "      <td>Mode-4</td>\n",
       "      <td>LOST</td>\n",
       "      <td>4</td>\n",
       "      <td>28</td>\n",
       "      <td>9</td>\n",
       "      <td>45</td>\n",
       "    </tr>\n",
       "    <tr>\n",
       "      <th>7418</th>\n",
       "      <td>15</td>\n",
       "      <td>Call</td>\n",
       "      <td>Sales-Agent-12</td>\n",
       "      <td>Other Locations</td>\n",
       "      <td>Mode-5</td>\n",
       "      <td>LOST</td>\n",
       "      <td>4</td>\n",
       "      <td>28</td>\n",
       "      <td>9</td>\n",
       "      <td>43</td>\n",
       "    </tr>\n",
       "    <tr>\n",
       "      <th>7419</th>\n",
       "      <td>5</td>\n",
       "      <td>Live Chat-Direct</td>\n",
       "      <td>Sales-Agent-11</td>\n",
       "      <td>Bangalore</td>\n",
       "      <td>Mode-1</td>\n",
       "      <td>Not Responding</td>\n",
       "      <td>4</td>\n",
       "      <td>28</td>\n",
       "      <td>9</td>\n",
       "      <td>20</td>\n",
       "    </tr>\n",
       "    <tr>\n",
       "      <th>7420</th>\n",
       "      <td>21</td>\n",
       "      <td>CRM form</td>\n",
       "      <td>Sales-Agent-4</td>\n",
       "      <td>Other Locations</td>\n",
       "      <td>Mode-1</td>\n",
       "      <td>Just Enquiry</td>\n",
       "      <td>4</td>\n",
       "      <td>28</td>\n",
       "      <td>8</td>\n",
       "      <td>4</td>\n",
       "    </tr>\n",
       "    <tr>\n",
       "      <th>7421</th>\n",
       "      <td>25</td>\n",
       "      <td>Website</td>\n",
       "      <td>Sales-Agent-3</td>\n",
       "      <td>Chennai</td>\n",
       "      <td>Mode-1</td>\n",
       "      <td>CONVERTED</td>\n",
       "      <td>4</td>\n",
       "      <td>28</td>\n",
       "      <td>7</td>\n",
       "      <td>54</td>\n",
       "    </tr>\n",
       "  </tbody>\n",
       "</table>\n",
       "<p>7420 rows × 10 columns</p>\n",
       "</div>"
      ],
      "text/plain": [
       "      Product_ID            Source     Sales_Agent         Location  \\\n",
       "0             18           Website  Sales-Agent-11  Other Locations   \n",
       "1             18           Website  Sales-Agent-10  Other Locations   \n",
       "2             18           Website  Sales-Agent-10  Other Locations   \n",
       "3             18           Website  Sales-Agent-10  Other Locations   \n",
       "4             18           Website  Sales-Agent-10  Other Locations   \n",
       "...          ...               ...             ...              ...   \n",
       "7417           9              Call   Sales-Agent-6           Mumbai   \n",
       "7418          15              Call  Sales-Agent-12  Other Locations   \n",
       "7419           5  Live Chat-Direct  Sales-Agent-11        Bangalore   \n",
       "7420          21          CRM form   Sales-Agent-4  Other Locations   \n",
       "7421          25           Website   Sales-Agent-3          Chennai   \n",
       "\n",
       "     Delivery_Mode          Status  Month  Day  Hour  Minute  \n",
       "0           Mode-5            Open     11   14    10       5  \n",
       "1           Mode-5            Open     11   14     9      22  \n",
       "2           Mode-5            Open     11   14     9      21  \n",
       "3           Mode-5            Open     11   14     8      46  \n",
       "4           Mode-5            Open     11   14     7      34  \n",
       "...            ...             ...    ...  ...   ...     ...  \n",
       "7417        Mode-4            LOST      4   28     9      45  \n",
       "7418        Mode-5            LOST      4   28     9      43  \n",
       "7419        Mode-1  Not Responding      4   28     9      20  \n",
       "7420        Mode-1    Just Enquiry      4   28     8       4  \n",
       "7421        Mode-1       CONVERTED      4   28     7      54  \n",
       "\n",
       "[7420 rows x 10 columns]"
      ]
     },
     "execution_count": 43,
     "metadata": {},
     "output_type": "execute_result"
    }
   ],
   "source": [
    "data"
   ]
  },
  {
   "cell_type": "code",
   "execution_count": 44,
   "id": "7291cb98-67fb-42e4-abb7-634173685f07",
   "metadata": {},
   "outputs": [],
   "source": [
    "# Grouping values in status column into low potential and high potential "
   ]
  },
  {
   "cell_type": "code",
   "execution_count": 45,
   "id": "8f68481b-9414-4242-b67b-a920934f7b2a",
   "metadata": {},
   "outputs": [
    {
     "data": {
      "text/plain": [
       "Status\n",
       "Junk Lead               1536\n",
       "Not Responding          1129\n",
       "CONVERTED                834\n",
       "Just Enquiry             760\n",
       "Potential                708\n",
       "Long Term                646\n",
       "In Progress Positive     643\n",
       "In Progress Negative     626\n",
       "LOST                     440\n",
       "Open                      80\n",
       "converted                 18\n",
       "Name: count, dtype: int64"
      ]
     },
     "execution_count": 45,
     "metadata": {},
     "output_type": "execute_result"
    }
   ],
   "source": [
    "data.Status.value_counts()"
   ]
  },
  {
   "cell_type": "code",
   "execution_count": 46,
   "id": "6b077f45-3d72-45f4-b3c8-691c1247f03b",
   "metadata": {},
   "outputs": [],
   "source": [
    "lead_status_mapping = {\n",
    "    'CONVERTED': 'High Potential',\n",
    "    'converted': 'High Potential',\n",
    "    'In Progress Positive': 'High Potential',\n",
    "    'Potential': 'High Potential',\n",
    "    'Long Term': 'High Potential',\n",
    "    'Junk Lead': 'Low Potential',\n",
    "    'Not Responding': 'Low Potential',\n",
    "    'Just Enquiry': 'Low Potential',\n",
    "    'In Progress Negative': 'Low Potential',\n",
    "    'LOST': 'Low Potential',\n",
    "    'Open': 'Low Potential'\n",
    "}\n",
    "\n",
    "data['Status'] = data['Status'].map(lead_status_mapping)"
   ]
  },
  {
   "cell_type": "code",
   "execution_count": 47,
   "id": "727ea7a7-4c3d-45e0-9926-829eff8b2284",
   "metadata": {},
   "outputs": [
    {
     "data": {
      "text/plain": [
       "Status\n",
       "Low Potential     4571\n",
       "High Potential    2849\n",
       "Name: count, dtype: int64"
      ]
     },
     "execution_count": 47,
     "metadata": {},
     "output_type": "execute_result"
    }
   ],
   "source": [
    "# values after grouping \n",
    "data.Status.value_counts()"
   ]
  },
  {
   "cell_type": "code",
   "execution_count": 48,
   "id": "472114dc-3b58-4b52-aa61-da81b51fad7e",
   "metadata": {},
   "outputs": [],
   "source": [
    "# Grouping values in source column into livechat, direct interaction,vdigital channel and others"
   ]
  },
  {
   "cell_type": "code",
   "execution_count": 49,
   "id": "d8df178e-e4b6-467a-b705-93aabd13d80f",
   "metadata": {},
   "outputs": [
    {
     "data": {
      "text/plain": [
       "Source\n",
       "Call                             2564\n",
       "Live Chat-Direct                 1834\n",
       "Website                          1592\n",
       "Live Chat-Google Organic          274\n",
       "Live Chat -PPC                    249\n",
       "Live Chat-Blog                    237\n",
       "Customer Referral                 180\n",
       "US Website                        137\n",
       "Just Dial                          56\n",
       "Existing Client                    51\n",
       "Personal Contact                   50\n",
       "Live Chat-CPC                      50\n",
       "By Recommendation                  32\n",
       "CRM form                           23\n",
       "Existing Customer                  22\n",
       "Live Chat-Google Ads               21\n",
       "Campaign                           19\n",
       "E-mail Campaign                    12\n",
       "Live Chat-Adwords Remarketing       7\n",
       "Live Chat-Quora                     2\n",
       "Other                               2\n",
       "SMS Campaign                        2\n",
       "Live Chat-Youtube                   2\n",
       "E-Mail Message                      1\n",
       "Live Chat-Justdial                  1\n",
       "Name: count, dtype: int64"
      ]
     },
     "execution_count": 49,
     "metadata": {},
     "output_type": "execute_result"
    }
   ],
   "source": [
    "data.Source.value_counts()  "
   ]
  },
  {
   "cell_type": "code",
   "execution_count": 50,
   "id": "3f7bc247-68e8-4b1f-81f8-af1d6ab5bbaf",
   "metadata": {},
   "outputs": [],
   "source": [
    "data['Source'].replace(\n",
    "    ['Live Chat-Direct', 'Live Chat-Google Organic', 'Live Chat -PPC', 'Live Chat-Blog', \n",
    "     'Live Chat-CPC', 'Live Chat-Google Ads', 'Live Chat-Adwords Remarketing', 'Live Chat-Quora', \n",
    "     'Live Chat-Youtube', 'Live Chat-Justdial'],\n",
    "    'Live Chat', inplace=True)\n",
    "\n",
    "data['Source'].replace(\n",
    "    ['US Website', 'Website', 'Just Dial'], 'Website', inplace=True)\n",
    "\n",
    "data['Source'].replace(\n",
    "    ['By Recommendation'], 'Customer Referral', inplace=True)\n",
    "\n",
    "data['Source'].replace(\n",
    "    ['Existing Client', 'Personal Contact', 'Live Chat-CPC', 'CRM form', 'Existing Customer'], \n",
    "    'Existing Customer', inplace=True)\n",
    "\n",
    "data['Source'].replace(\n",
    "    ['Campaign', 'E-mail Campaign', 'SMS Campaign', 'E-Mail Message'], \n",
    "    'Campaign', inplace=True)"
   ]
  },
  {
   "cell_type": "code",
   "execution_count": 51,
   "id": "f8048d0b-186b-459a-84dd-65b672863852",
   "metadata": {},
   "outputs": [
    {
     "data": {
      "text/plain": [
       "Source\n",
       "Live Chat            2677\n",
       "Call                 2564\n",
       "Website              1785\n",
       "Customer Referral     212\n",
       "Existing Customer     146\n",
       "Campaign               34\n",
       "Other                   2\n",
       "Name: count, dtype: int64"
      ]
     },
     "execution_count": 51,
     "metadata": {},
     "output_type": "execute_result"
    }
   ],
   "source": [
    "# values after grouping \n",
    "data.Source.value_counts()"
   ]
  },
  {
   "cell_type": "code",
   "execution_count": 52,
   "id": "a156a582-8580-4103-a9f9-cfab654c3825",
   "metadata": {},
   "outputs": [],
   "source": [
    "# Grouping values in location column into international, other locations and some indian locations"
   ]
  },
  {
   "cell_type": "code",
   "execution_count": 53,
   "id": "3fadae63-0c09-40d2-abd6-60b2a41db220",
   "metadata": {},
   "outputs": [
    {
     "data": {
      "text/plain": [
       "Location\n",
       "Other Locations    2556\n",
       "Bangalore          2084\n",
       "Chennai             909\n",
       "Hyderabad           528\n",
       "Delhi               471\n",
       "Mumbai              402\n",
       "Pune                142\n",
       "UAE                  79\n",
       "Trivandrum           58\n",
       "Kolkata              55\n",
       "USA                  45\n",
       "UK                   41\n",
       "AUSTRALIA            25\n",
       "Singapore            17\n",
       "Malaysia              4\n",
       "EUROPE                3\n",
       "Howrah                1\n",
       "Name: count, dtype: int64"
      ]
     },
     "execution_count": 53,
     "metadata": {},
     "output_type": "execute_result"
    }
   ],
   "source": [
    "data.Location.value_counts() "
   ]
  },
  {
   "cell_type": "code",
   "execution_count": 54,
   "id": "4d60ba71-fe3a-4cdd-8811-bfc5196b1ceb",
   "metadata": {},
   "outputs": [],
   "source": [
    "def group_by_geography(location):\n",
    "    if location in ['Bangalore', 'Chennai', 'Hyderabad', 'Mumbai', 'Delhi', 'Pune', 'Kolkata', 'Trivandrum','Howrah']:\n",
    "         return location \n",
    "    if location in ['UAE', 'USA', 'AUSTRALIA', 'UK', 'Singapore', 'EUROPE','Malaysia']:\n",
    "        return \"International\"\n",
    "    else:\n",
    "        return \"Other Locations\"\n",
    "\n",
    "data['Location'] = data['Location'].apply(group_by_geography)"
   ]
  },
  {
   "cell_type": "code",
   "execution_count": 55,
   "id": "fe8c46b2-b314-44ea-a5a3-ebda2fba6080",
   "metadata": {},
   "outputs": [
    {
     "data": {
      "text/plain": [
       "Location\n",
       "Other Locations    2556\n",
       "Bangalore          2084\n",
       "Chennai             909\n",
       "Hyderabad           528\n",
       "Delhi               471\n",
       "Mumbai              402\n",
       "International       214\n",
       "Pune                142\n",
       "Trivandrum           58\n",
       "Kolkata              55\n",
       "Howrah                1\n",
       "Name: count, dtype: int64"
      ]
     },
     "execution_count": 55,
     "metadata": {},
     "output_type": "execute_result"
    }
   ],
   "source": [
    "# values after grouping \n",
    "data.Location.value_counts()"
   ]
  },
  {
   "cell_type": "code",
   "execution_count": 56,
   "id": "d6dde91d-57cc-472c-a6a6-8bd5c3e32ab8",
   "metadata": {},
   "outputs": [
    {
     "data": {
      "text/html": [
       "<div>\n",
       "<style scoped>\n",
       "    .dataframe tbody tr th:only-of-type {\n",
       "        vertical-align: middle;\n",
       "    }\n",
       "\n",
       "    .dataframe tbody tr th {\n",
       "        vertical-align: top;\n",
       "    }\n",
       "\n",
       "    .dataframe thead th {\n",
       "        text-align: right;\n",
       "    }\n",
       "</style>\n",
       "<table border=\"1\" class=\"dataframe\">\n",
       "  <thead>\n",
       "    <tr style=\"text-align: right;\">\n",
       "      <th></th>\n",
       "      <th>Product_ID</th>\n",
       "      <th>Source</th>\n",
       "      <th>Sales_Agent</th>\n",
       "      <th>Location</th>\n",
       "      <th>Delivery_Mode</th>\n",
       "      <th>Status</th>\n",
       "      <th>Month</th>\n",
       "      <th>Day</th>\n",
       "      <th>Hour</th>\n",
       "      <th>Minute</th>\n",
       "    </tr>\n",
       "  </thead>\n",
       "  <tbody>\n",
       "    <tr>\n",
       "      <th>0</th>\n",
       "      <td>18</td>\n",
       "      <td>Website</td>\n",
       "      <td>Sales-Agent-11</td>\n",
       "      <td>Other Locations</td>\n",
       "      <td>Mode-5</td>\n",
       "      <td>Low Potential</td>\n",
       "      <td>11</td>\n",
       "      <td>14</td>\n",
       "      <td>10</td>\n",
       "      <td>5</td>\n",
       "    </tr>\n",
       "    <tr>\n",
       "      <th>1</th>\n",
       "      <td>18</td>\n",
       "      <td>Website</td>\n",
       "      <td>Sales-Agent-10</td>\n",
       "      <td>Other Locations</td>\n",
       "      <td>Mode-5</td>\n",
       "      <td>Low Potential</td>\n",
       "      <td>11</td>\n",
       "      <td>14</td>\n",
       "      <td>9</td>\n",
       "      <td>22</td>\n",
       "    </tr>\n",
       "    <tr>\n",
       "      <th>2</th>\n",
       "      <td>18</td>\n",
       "      <td>Website</td>\n",
       "      <td>Sales-Agent-10</td>\n",
       "      <td>Other Locations</td>\n",
       "      <td>Mode-5</td>\n",
       "      <td>Low Potential</td>\n",
       "      <td>11</td>\n",
       "      <td>14</td>\n",
       "      <td>9</td>\n",
       "      <td>21</td>\n",
       "    </tr>\n",
       "    <tr>\n",
       "      <th>3</th>\n",
       "      <td>18</td>\n",
       "      <td>Website</td>\n",
       "      <td>Sales-Agent-10</td>\n",
       "      <td>Other Locations</td>\n",
       "      <td>Mode-5</td>\n",
       "      <td>Low Potential</td>\n",
       "      <td>11</td>\n",
       "      <td>14</td>\n",
       "      <td>8</td>\n",
       "      <td>46</td>\n",
       "    </tr>\n",
       "    <tr>\n",
       "      <th>4</th>\n",
       "      <td>18</td>\n",
       "      <td>Website</td>\n",
       "      <td>Sales-Agent-10</td>\n",
       "      <td>Other Locations</td>\n",
       "      <td>Mode-5</td>\n",
       "      <td>Low Potential</td>\n",
       "      <td>11</td>\n",
       "      <td>14</td>\n",
       "      <td>7</td>\n",
       "      <td>34</td>\n",
       "    </tr>\n",
       "    <tr>\n",
       "      <th>...</th>\n",
       "      <td>...</td>\n",
       "      <td>...</td>\n",
       "      <td>...</td>\n",
       "      <td>...</td>\n",
       "      <td>...</td>\n",
       "      <td>...</td>\n",
       "      <td>...</td>\n",
       "      <td>...</td>\n",
       "      <td>...</td>\n",
       "      <td>...</td>\n",
       "    </tr>\n",
       "    <tr>\n",
       "      <th>7417</th>\n",
       "      <td>9</td>\n",
       "      <td>Call</td>\n",
       "      <td>Sales-Agent-6</td>\n",
       "      <td>Mumbai</td>\n",
       "      <td>Mode-4</td>\n",
       "      <td>Low Potential</td>\n",
       "      <td>4</td>\n",
       "      <td>28</td>\n",
       "      <td>9</td>\n",
       "      <td>45</td>\n",
       "    </tr>\n",
       "    <tr>\n",
       "      <th>7418</th>\n",
       "      <td>15</td>\n",
       "      <td>Call</td>\n",
       "      <td>Sales-Agent-12</td>\n",
       "      <td>Other Locations</td>\n",
       "      <td>Mode-5</td>\n",
       "      <td>Low Potential</td>\n",
       "      <td>4</td>\n",
       "      <td>28</td>\n",
       "      <td>9</td>\n",
       "      <td>43</td>\n",
       "    </tr>\n",
       "    <tr>\n",
       "      <th>7419</th>\n",
       "      <td>5</td>\n",
       "      <td>Live Chat</td>\n",
       "      <td>Sales-Agent-11</td>\n",
       "      <td>Bangalore</td>\n",
       "      <td>Mode-1</td>\n",
       "      <td>Low Potential</td>\n",
       "      <td>4</td>\n",
       "      <td>28</td>\n",
       "      <td>9</td>\n",
       "      <td>20</td>\n",
       "    </tr>\n",
       "    <tr>\n",
       "      <th>7420</th>\n",
       "      <td>21</td>\n",
       "      <td>Existing Customer</td>\n",
       "      <td>Sales-Agent-4</td>\n",
       "      <td>Other Locations</td>\n",
       "      <td>Mode-1</td>\n",
       "      <td>Low Potential</td>\n",
       "      <td>4</td>\n",
       "      <td>28</td>\n",
       "      <td>8</td>\n",
       "      <td>4</td>\n",
       "    </tr>\n",
       "    <tr>\n",
       "      <th>7421</th>\n",
       "      <td>25</td>\n",
       "      <td>Website</td>\n",
       "      <td>Sales-Agent-3</td>\n",
       "      <td>Chennai</td>\n",
       "      <td>Mode-1</td>\n",
       "      <td>High Potential</td>\n",
       "      <td>4</td>\n",
       "      <td>28</td>\n",
       "      <td>7</td>\n",
       "      <td>54</td>\n",
       "    </tr>\n",
       "  </tbody>\n",
       "</table>\n",
       "<p>7420 rows × 10 columns</p>\n",
       "</div>"
      ],
      "text/plain": [
       "      Product_ID             Source     Sales_Agent         Location  \\\n",
       "0             18            Website  Sales-Agent-11  Other Locations   \n",
       "1             18            Website  Sales-Agent-10  Other Locations   \n",
       "2             18            Website  Sales-Agent-10  Other Locations   \n",
       "3             18            Website  Sales-Agent-10  Other Locations   \n",
       "4             18            Website  Sales-Agent-10  Other Locations   \n",
       "...          ...                ...             ...              ...   \n",
       "7417           9               Call   Sales-Agent-6           Mumbai   \n",
       "7418          15               Call  Sales-Agent-12  Other Locations   \n",
       "7419           5          Live Chat  Sales-Agent-11        Bangalore   \n",
       "7420          21  Existing Customer   Sales-Agent-4  Other Locations   \n",
       "7421          25            Website   Sales-Agent-3          Chennai   \n",
       "\n",
       "     Delivery_Mode          Status  Month  Day  Hour  Minute  \n",
       "0           Mode-5   Low Potential     11   14    10       5  \n",
       "1           Mode-5   Low Potential     11   14     9      22  \n",
       "2           Mode-5   Low Potential     11   14     9      21  \n",
       "3           Mode-5   Low Potential     11   14     8      46  \n",
       "4           Mode-5   Low Potential     11   14     7      34  \n",
       "...            ...             ...    ...  ...   ...     ...  \n",
       "7417        Mode-4   Low Potential      4   28     9      45  \n",
       "7418        Mode-5   Low Potential      4   28     9      43  \n",
       "7419        Mode-1   Low Potential      4   28     9      20  \n",
       "7420        Mode-1   Low Potential      4   28     8       4  \n",
       "7421        Mode-1  High Potential      4   28     7      54  \n",
       "\n",
       "[7420 rows x 10 columns]"
      ]
     },
     "execution_count": 56,
     "metadata": {},
     "output_type": "execute_result"
    }
   ],
   "source": [
    "data"
   ]
  },
  {
   "cell_type": "code",
   "execution_count": 57,
   "id": "764fd638-faa3-4ee3-a485-3661935ee3c0",
   "metadata": {},
   "outputs": [],
   "source": [
    "data.to_pickle('data_preprocessing.pkl')"
   ]
  },
  {
   "cell_type": "code",
   "execution_count": null,
   "id": "4dc3b6eb-e371-47f1-90c2-f5228afe1372",
   "metadata": {},
   "outputs": [],
   "source": []
  }
 ],
 "metadata": {
  "kernelspec": {
   "display_name": "Python 3 (ipykernel)",
   "language": "python",
   "name": "python3"
  },
  "language_info": {
   "codemirror_mode": {
    "name": "ipython",
    "version": 3
   },
   "file_extension": ".py",
   "mimetype": "text/x-python",
   "name": "python",
   "nbconvert_exporter": "python",
   "pygments_lexer": "ipython3",
   "version": "3.11.7"
  }
 },
 "nbformat": 4,
 "nbformat_minor": 5
}
