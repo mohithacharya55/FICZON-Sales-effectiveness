{
 "cells": [
  {
   "cell_type": "code",
   "execution_count": 1,
   "id": "f640b869-bdfe-4899-9fe9-415d0a2c0ed8",
   "metadata": {},
   "outputs": [],
   "source": [
    "import pandas as pd\n",
    "from matplotlib import pyplot as plt\n",
    "import seaborn as sns\n",
    "from sklearn.preprocessing import MinMaxScaler"
   ]
  },
  {
   "cell_type": "code",
   "execution_count": 2,
   "id": "7f67ae31-6965-4cb4-a835-14da2b854ded",
   "metadata": {},
   "outputs": [],
   "source": [
    "data = pd.read_pickle('data_preprocessing.pkl')"
   ]
  },
  {
   "cell_type": "code",
   "execution_count": 3,
   "id": "ba7ee922-d374-4dbf-b297-14cf926ecf01",
   "metadata": {},
   "outputs": [
    {
     "data": {
      "text/html": [
       "<div>\n",
       "<style scoped>\n",
       "    .dataframe tbody tr th:only-of-type {\n",
       "        vertical-align: middle;\n",
       "    }\n",
       "\n",
       "    .dataframe tbody tr th {\n",
       "        vertical-align: top;\n",
       "    }\n",
       "\n",
       "    .dataframe thead th {\n",
       "        text-align: right;\n",
       "    }\n",
       "</style>\n",
       "<table border=\"1\" class=\"dataframe\">\n",
       "  <thead>\n",
       "    <tr style=\"text-align: right;\">\n",
       "      <th></th>\n",
       "      <th>Product_ID</th>\n",
       "      <th>Source</th>\n",
       "      <th>Sales_Agent</th>\n",
       "      <th>Location</th>\n",
       "      <th>Delivery_Mode</th>\n",
       "      <th>Status</th>\n",
       "      <th>Month</th>\n",
       "      <th>Day</th>\n",
       "      <th>Hour</th>\n",
       "      <th>Minute</th>\n",
       "    </tr>\n",
       "  </thead>\n",
       "  <tbody>\n",
       "    <tr>\n",
       "      <th>0</th>\n",
       "      <td>18</td>\n",
       "      <td>Website</td>\n",
       "      <td>Sales-Agent-11</td>\n",
       "      <td>Other Locations</td>\n",
       "      <td>Mode-5</td>\n",
       "      <td>Low Potential</td>\n",
       "      <td>11</td>\n",
       "      <td>14</td>\n",
       "      <td>10</td>\n",
       "      <td>5</td>\n",
       "    </tr>\n",
       "    <tr>\n",
       "      <th>1</th>\n",
       "      <td>18</td>\n",
       "      <td>Website</td>\n",
       "      <td>Sales-Agent-10</td>\n",
       "      <td>Other Locations</td>\n",
       "      <td>Mode-5</td>\n",
       "      <td>Low Potential</td>\n",
       "      <td>11</td>\n",
       "      <td>14</td>\n",
       "      <td>9</td>\n",
       "      <td>22</td>\n",
       "    </tr>\n",
       "    <tr>\n",
       "      <th>2</th>\n",
       "      <td>18</td>\n",
       "      <td>Website</td>\n",
       "      <td>Sales-Agent-10</td>\n",
       "      <td>Other Locations</td>\n",
       "      <td>Mode-5</td>\n",
       "      <td>Low Potential</td>\n",
       "      <td>11</td>\n",
       "      <td>14</td>\n",
       "      <td>9</td>\n",
       "      <td>21</td>\n",
       "    </tr>\n",
       "    <tr>\n",
       "      <th>3</th>\n",
       "      <td>18</td>\n",
       "      <td>Website</td>\n",
       "      <td>Sales-Agent-10</td>\n",
       "      <td>Other Locations</td>\n",
       "      <td>Mode-5</td>\n",
       "      <td>Low Potential</td>\n",
       "      <td>11</td>\n",
       "      <td>14</td>\n",
       "      <td>8</td>\n",
       "      <td>46</td>\n",
       "    </tr>\n",
       "    <tr>\n",
       "      <th>4</th>\n",
       "      <td>18</td>\n",
       "      <td>Website</td>\n",
       "      <td>Sales-Agent-10</td>\n",
       "      <td>Other Locations</td>\n",
       "      <td>Mode-5</td>\n",
       "      <td>Low Potential</td>\n",
       "      <td>11</td>\n",
       "      <td>14</td>\n",
       "      <td>7</td>\n",
       "      <td>34</td>\n",
       "    </tr>\n",
       "    <tr>\n",
       "      <th>...</th>\n",
       "      <td>...</td>\n",
       "      <td>...</td>\n",
       "      <td>...</td>\n",
       "      <td>...</td>\n",
       "      <td>...</td>\n",
       "      <td>...</td>\n",
       "      <td>...</td>\n",
       "      <td>...</td>\n",
       "      <td>...</td>\n",
       "      <td>...</td>\n",
       "    </tr>\n",
       "    <tr>\n",
       "      <th>7417</th>\n",
       "      <td>9</td>\n",
       "      <td>Call</td>\n",
       "      <td>Sales-Agent-6</td>\n",
       "      <td>Mumbai</td>\n",
       "      <td>Mode-4</td>\n",
       "      <td>Low Potential</td>\n",
       "      <td>4</td>\n",
       "      <td>28</td>\n",
       "      <td>9</td>\n",
       "      <td>45</td>\n",
       "    </tr>\n",
       "    <tr>\n",
       "      <th>7418</th>\n",
       "      <td>15</td>\n",
       "      <td>Call</td>\n",
       "      <td>Sales-Agent-12</td>\n",
       "      <td>Other Locations</td>\n",
       "      <td>Mode-5</td>\n",
       "      <td>Low Potential</td>\n",
       "      <td>4</td>\n",
       "      <td>28</td>\n",
       "      <td>9</td>\n",
       "      <td>43</td>\n",
       "    </tr>\n",
       "    <tr>\n",
       "      <th>7419</th>\n",
       "      <td>5</td>\n",
       "      <td>Live Chat</td>\n",
       "      <td>Sales-Agent-11</td>\n",
       "      <td>Bangalore</td>\n",
       "      <td>Mode-1</td>\n",
       "      <td>Low Potential</td>\n",
       "      <td>4</td>\n",
       "      <td>28</td>\n",
       "      <td>9</td>\n",
       "      <td>20</td>\n",
       "    </tr>\n",
       "    <tr>\n",
       "      <th>7420</th>\n",
       "      <td>21</td>\n",
       "      <td>Existing Customer</td>\n",
       "      <td>Sales-Agent-4</td>\n",
       "      <td>Other Locations</td>\n",
       "      <td>Mode-1</td>\n",
       "      <td>Low Potential</td>\n",
       "      <td>4</td>\n",
       "      <td>28</td>\n",
       "      <td>8</td>\n",
       "      <td>4</td>\n",
       "    </tr>\n",
       "    <tr>\n",
       "      <th>7421</th>\n",
       "      <td>25</td>\n",
       "      <td>Website</td>\n",
       "      <td>Sales-Agent-3</td>\n",
       "      <td>Chennai</td>\n",
       "      <td>Mode-1</td>\n",
       "      <td>High Potential</td>\n",
       "      <td>4</td>\n",
       "      <td>28</td>\n",
       "      <td>7</td>\n",
       "      <td>54</td>\n",
       "    </tr>\n",
       "  </tbody>\n",
       "</table>\n",
       "<p>7420 rows × 10 columns</p>\n",
       "</div>"
      ],
      "text/plain": [
       "      Product_ID             Source     Sales_Agent         Location  \\\n",
       "0             18            Website  Sales-Agent-11  Other Locations   \n",
       "1             18            Website  Sales-Agent-10  Other Locations   \n",
       "2             18            Website  Sales-Agent-10  Other Locations   \n",
       "3             18            Website  Sales-Agent-10  Other Locations   \n",
       "4             18            Website  Sales-Agent-10  Other Locations   \n",
       "...          ...                ...             ...              ...   \n",
       "7417           9               Call   Sales-Agent-6           Mumbai   \n",
       "7418          15               Call  Sales-Agent-12  Other Locations   \n",
       "7419           5          Live Chat  Sales-Agent-11        Bangalore   \n",
       "7420          21  Existing Customer   Sales-Agent-4  Other Locations   \n",
       "7421          25            Website   Sales-Agent-3          Chennai   \n",
       "\n",
       "     Delivery_Mode          Status  Month  Day  Hour  Minute  \n",
       "0           Mode-5   Low Potential     11   14    10       5  \n",
       "1           Mode-5   Low Potential     11   14     9      22  \n",
       "2           Mode-5   Low Potential     11   14     9      21  \n",
       "3           Mode-5   Low Potential     11   14     8      46  \n",
       "4           Mode-5   Low Potential     11   14     7      34  \n",
       "...            ...             ...    ...  ...   ...     ...  \n",
       "7417        Mode-4   Low Potential      4   28     9      45  \n",
       "7418        Mode-5   Low Potential      4   28     9      43  \n",
       "7419        Mode-1   Low Potential      4   28     9      20  \n",
       "7420        Mode-1   Low Potential      4   28     8       4  \n",
       "7421        Mode-1  High Potential      4   28     7      54  \n",
       "\n",
       "[7420 rows x 10 columns]"
      ]
     },
     "execution_count": 3,
     "metadata": {},
     "output_type": "execute_result"
    }
   ],
   "source": [
    "data"
   ]
  },
  {
   "cell_type": "markdown",
   "id": "4063091e-7c44-4a0d-9acf-6749315ab4dc",
   "metadata": {},
   "source": [
    "### Feature Engineering"
   ]
  },
  {
   "cell_type": "code",
   "execution_count": 4,
   "id": "1c526d8a-4507-4919-ae31-3d8214335a04",
   "metadata": {},
   "outputs": [],
   "source": [
    "# From correlation we got to know which features are least correlated with target so we will drop them "
   ]
  },
  {
   "cell_type": "code",
   "execution_count": 5,
   "id": "0990f4e2-9d4d-4d95-943b-d28d1cc0e220",
   "metadata": {},
   "outputs": [],
   "source": [
    "data.drop(['Day','Hour','Minute'],axis =1, inplace =True)"
   ]
  },
  {
   "cell_type": "code",
   "execution_count": 6,
   "id": "22d41c99-9c30-4e3e-ac97-7c39ee6d3681",
   "metadata": {},
   "outputs": [],
   "source": [
    "# Handling Outlier "
   ]
  },
  {
   "cell_type": "code",
   "execution_count": 7,
   "id": "b6191890-e915-4c22-9e34-e432a02acafa",
   "metadata": {},
   "outputs": [],
   "source": [
    "# Product id column "
   ]
  },
  {
   "cell_type": "code",
   "execution_count": 8,
   "id": "b1a61dcf-810c-4de4-973c-f249e583e303",
   "metadata": {},
   "outputs": [
    {
     "data": {
      "image/png": "[encoded data removed]",
      "text/plain": [
       "<Figure size 500x200 with 1 Axes>"
      ]
     },
     "metadata": {},
     "output_type": "display_data"
    }
   ],
   "source": [
    "plt.figure(figsize=(5,2)) \n",
    "sns.boxplot(x='Product_ID', data=data)\n",
    "plt.title('Box Plot of Product ID')  \n",
    "plt.show()"
   ]
  },
  {
   "cell_type": "code",
   "execution_count": 9,
   "id": "3c079111-8c88-463a-9790-77300c4d7a82",
   "metadata": {},
   "outputs": [],
   "source": [
    "q1 = data['Product_ID'].quantile(0.25)\n",
    "q3 = data['Product_ID'].quantile(0.75)\n",
    "IQR = q3 - q1 "
   ]
  },
  {
   "cell_type": "code",
   "execution_count": 10,
   "id": "035872b6-bcff-4436-b513-c7a9b734e5c5",
   "metadata": {},
   "outputs": [],
   "source": [
    "lower = q1 - (1.5*IQR)\n",
    "upper = q3 + (1.5*IQR)"
   ]
  },
  {
   "cell_type": "code",
   "execution_count": 11,
   "id": "e7983e4c-539b-4e25-ba12-df8ed4030b75",
   "metadata": {},
   "outputs": [
    {
     "data": {
      "text/html": [
       "<div>\n",
       "<style scoped>\n",
       "    .dataframe tbody tr th:only-of-type {\n",
       "        vertical-align: middle;\n",
       "    }\n",
       "\n",
       "    .dataframe tbody tr th {\n",
       "        vertical-align: top;\n",
       "    }\n",
       "\n",
       "    .dataframe thead th {\n",
       "        text-align: right;\n",
       "    }\n",
       "</style>\n",
       "<table border=\"1\" class=\"dataframe\">\n",
       "  <thead>\n",
       "    <tr style=\"text-align: right;\">\n",
       "      <th></th>\n",
       "      <th>Product_ID</th>\n",
       "      <th>Source</th>\n",
       "      <th>Sales_Agent</th>\n",
       "      <th>Location</th>\n",
       "      <th>Delivery_Mode</th>\n",
       "      <th>Status</th>\n",
       "      <th>Month</th>\n",
       "    </tr>\n",
       "  </thead>\n",
       "  <tbody>\n",
       "    <tr>\n",
       "      <th>272</th>\n",
       "      <td>1</td>\n",
       "      <td>Website</td>\n",
       "      <td>Sales-Agent-3</td>\n",
       "      <td>Bangalore</td>\n",
       "      <td>Mode-1</td>\n",
       "      <td>Low Potential</td>\n",
       "      <td>11</td>\n",
       "    </tr>\n",
       "    <tr>\n",
       "      <th>275</th>\n",
       "      <td>1</td>\n",
       "      <td>Live Chat</td>\n",
       "      <td>Sales-Agent-9</td>\n",
       "      <td>Chennai</td>\n",
       "      <td>Mode-3</td>\n",
       "      <td>Low Potential</td>\n",
       "      <td>11</td>\n",
       "    </tr>\n",
       "    <tr>\n",
       "      <th>423</th>\n",
       "      <td>1</td>\n",
       "      <td>Live Chat</td>\n",
       "      <td>Sales-Agent-3</td>\n",
       "      <td>Pune</td>\n",
       "      <td>Mode-3</td>\n",
       "      <td>Low Potential</td>\n",
       "      <td>10</td>\n",
       "    </tr>\n",
       "    <tr>\n",
       "      <th>454</th>\n",
       "      <td>1</td>\n",
       "      <td>Call</td>\n",
       "      <td>Sales-Agent-11</td>\n",
       "      <td>Other Locations</td>\n",
       "      <td>Mode-5</td>\n",
       "      <td>Low Potential</td>\n",
       "      <td>10</td>\n",
       "    </tr>\n",
       "    <tr>\n",
       "      <th>581</th>\n",
       "      <td>1</td>\n",
       "      <td>Live Chat</td>\n",
       "      <td>Sales-Agent-5</td>\n",
       "      <td>Hyderabad</td>\n",
       "      <td>Mode-3</td>\n",
       "      <td>High Potential</td>\n",
       "      <td>10</td>\n",
       "    </tr>\n",
       "    <tr>\n",
       "      <th>...</th>\n",
       "      <td>...</td>\n",
       "      <td>...</td>\n",
       "      <td>...</td>\n",
       "      <td>...</td>\n",
       "      <td>...</td>\n",
       "      <td>...</td>\n",
       "      <td>...</td>\n",
       "    </tr>\n",
       "    <tr>\n",
       "      <th>7112</th>\n",
       "      <td>1</td>\n",
       "      <td>Website</td>\n",
       "      <td>Sales-Agent-3</td>\n",
       "      <td>Chennai</td>\n",
       "      <td>Mode-1</td>\n",
       "      <td>Low Potential</td>\n",
       "      <td>5</td>\n",
       "    </tr>\n",
       "    <tr>\n",
       "      <th>7138</th>\n",
       "      <td>1</td>\n",
       "      <td>Live Chat</td>\n",
       "      <td>Sales-Agent-3</td>\n",
       "      <td>Bangalore</td>\n",
       "      <td>Mode-1</td>\n",
       "      <td>Low Potential</td>\n",
       "      <td>5</td>\n",
       "    </tr>\n",
       "    <tr>\n",
       "      <th>7151</th>\n",
       "      <td>1</td>\n",
       "      <td>Live Chat</td>\n",
       "      <td>Sales-Agent-2</td>\n",
       "      <td>Chennai</td>\n",
       "      <td>Mode-1</td>\n",
       "      <td>Low Potential</td>\n",
       "      <td>5</td>\n",
       "    </tr>\n",
       "    <tr>\n",
       "      <th>7283</th>\n",
       "      <td>1</td>\n",
       "      <td>Call</td>\n",
       "      <td>Sales-Agent-11</td>\n",
       "      <td>Other Locations</td>\n",
       "      <td>Mode-5</td>\n",
       "      <td>Low Potential</td>\n",
       "      <td>5</td>\n",
       "    </tr>\n",
       "    <tr>\n",
       "      <th>7317</th>\n",
       "      <td>1</td>\n",
       "      <td>Existing Customer</td>\n",
       "      <td>Sales-Agent-4</td>\n",
       "      <td>Bangalore</td>\n",
       "      <td>Mode-1</td>\n",
       "      <td>Low Potential</td>\n",
       "      <td>4</td>\n",
       "    </tr>\n",
       "  </tbody>\n",
       "</table>\n",
       "<p>107 rows × 7 columns</p>\n",
       "</div>"
      ],
      "text/plain": [
       "      Product_ID             Source     Sales_Agent         Location  \\\n",
       "272            1            Website   Sales-Agent-3        Bangalore   \n",
       "275            1          Live Chat   Sales-Agent-9          Chennai   \n",
       "423            1          Live Chat   Sales-Agent-3             Pune   \n",
       "454            1               Call  Sales-Agent-11  Other Locations   \n",
       "581            1          Live Chat   Sales-Agent-5        Hyderabad   \n",
       "...          ...                ...             ...              ...   \n",
       "7112           1            Website   Sales-Agent-3          Chennai   \n",
       "7138           1          Live Chat   Sales-Agent-3        Bangalore   \n",
       "7151           1          Live Chat   Sales-Agent-2          Chennai   \n",
       "7283           1               Call  Sales-Agent-11  Other Locations   \n",
       "7317           1  Existing Customer   Sales-Agent-4        Bangalore   \n",
       "\n",
       "     Delivery_Mode          Status  Month  \n",
       "272         Mode-1   Low Potential     11  \n",
       "275         Mode-3   Low Potential     11  \n",
       "423         Mode-3   Low Potential     10  \n",
       "454         Mode-5   Low Potential     10  \n",
       "581         Mode-3  High Potential     10  \n",
       "...            ...             ...    ...  \n",
       "7112        Mode-1   Low Potential      5  \n",
       "7138        Mode-1   Low Potential      5  \n",
       "7151        Mode-1   Low Potential      5  \n",
       "7283        Mode-5   Low Potential      5  \n",
       "7317        Mode-1   Low Potential      4  \n",
       "\n",
       "[107 rows x 7 columns]"
      ]
     },
     "execution_count": 11,
     "metadata": {},
     "output_type": "execute_result"
    }
   ],
   "source": [
    "data[data['Product_ID']< lower]"
   ]
  },
  {
   "cell_type": "code",
   "execution_count": 12,
   "id": "6d6e844a-2589-4cda-9e24-82b263a579a2",
   "metadata": {},
   "outputs": [
    {
     "data": {
      "text/html": [
       "<div>\n",
       "<style scoped>\n",
       "    .dataframe tbody tr th:only-of-type {\n",
       "        vertical-align: middle;\n",
       "    }\n",
       "\n",
       "    .dataframe tbody tr th {\n",
       "        vertical-align: top;\n",
       "    }\n",
       "\n",
       "    .dataframe thead th {\n",
       "        text-align: right;\n",
       "    }\n",
       "</style>\n",
       "<table border=\"1\" class=\"dataframe\">\n",
       "  <thead>\n",
       "    <tr style=\"text-align: right;\">\n",
       "      <th></th>\n",
       "      <th>Product_ID</th>\n",
       "      <th>Source</th>\n",
       "      <th>Sales_Agent</th>\n",
       "      <th>Location</th>\n",
       "      <th>Delivery_Mode</th>\n",
       "      <th>Status</th>\n",
       "      <th>Month</th>\n",
       "    </tr>\n",
       "  </thead>\n",
       "  <tbody>\n",
       "  </tbody>\n",
       "</table>\n",
       "</div>"
      ],
      "text/plain": [
       "Empty DataFrame\n",
       "Columns: [Product_ID, Source, Sales_Agent, Location, Delivery_Mode, Status, Month]\n",
       "Index: []"
      ]
     },
     "execution_count": 12,
     "metadata": {},
     "output_type": "execute_result"
    }
   ],
   "source": [
    "data[data['Product_ID']>upper]"
   ]
  },
  {
   "cell_type": "code",
   "execution_count": 13,
   "id": "fcb49bd7-6f85-42cc-bfc0-b31866854771",
   "metadata": {},
   "outputs": [],
   "source": [
    "data.loc[data['Product_ID'] < lower,'Product_ID'] = data['Product_ID'].median()"
   ]
  },
  {
   "cell_type": "code",
   "execution_count": 14,
   "id": "7170aa4d-4110-44cb-b046-1a2980beea9d",
   "metadata": {},
   "outputs": [
    {
     "data": {
      "text/html": [
       "<div>\n",
       "<style scoped>\n",
       "    .dataframe tbody tr th:only-of-type {\n",
       "        vertical-align: middle;\n",
       "    }\n",
       "\n",
       "    .dataframe tbody tr th {\n",
       "        vertical-align: top;\n",
       "    }\n",
       "\n",
       "    .dataframe thead th {\n",
       "        text-align: right;\n",
       "    }\n",
       "</style>\n",
       "<table border=\"1\" class=\"dataframe\">\n",
       "  <thead>\n",
       "    <tr style=\"text-align: right;\">\n",
       "      <th></th>\n",
       "      <th>Product_ID</th>\n",
       "      <th>Source</th>\n",
       "      <th>Sales_Agent</th>\n",
       "      <th>Location</th>\n",
       "      <th>Delivery_Mode</th>\n",
       "      <th>Status</th>\n",
       "      <th>Month</th>\n",
       "    </tr>\n",
       "  </thead>\n",
       "  <tbody>\n",
       "  </tbody>\n",
       "</table>\n",
       "</div>"
      ],
      "text/plain": [
       "Empty DataFrame\n",
       "Columns: [Product_ID, Source, Sales_Agent, Location, Delivery_Mode, Status, Month]\n",
       "Index: []"
      ]
     },
     "execution_count": 14,
     "metadata": {},
     "output_type": "execute_result"
    }
   ],
   "source": [
    "data[data['Product_ID']<lower]"
   ]
  },
  {
   "cell_type": "code",
   "execution_count": 15,
   "id": "83545069-75c4-4a5b-8b8c-7403e856c5db",
   "metadata": {},
   "outputs": [],
   "source": [
    "# month column "
   ]
  },
  {
   "cell_type": "code",
   "execution_count": 16,
   "id": "2fbbba47-fa9b-486f-b3e3-6d6837e855c0",
   "metadata": {},
   "outputs": [
    {
     "data": {
      "image/png": "[encoded data removed]",
      "text/plain": [
       "<Figure size 500x200 with 1 Axes>"
      ]
     },
     "metadata": {},
     "output_type": "display_data"
    }
   ],
   "source": [
    "plt.figure(figsize=(5,2)) \n",
    "sns.boxplot(x='Month', data=data)\n",
    "plt.title('Box Plot of Product ID')  \n",
    "plt.show()"
   ]
  },
  {
   "cell_type": "code",
   "execution_count": 17,
   "id": "81421853-d146-40cb-bf24-eb8ef26d2fa7",
   "metadata": {},
   "outputs": [],
   "source": [
    "# no outliers in month column "
   ]
  },
  {
   "cell_type": "code",
   "execution_count": 18,
   "id": "c865d21f-e7c6-47c8-9591-1ed91f89b1e3",
   "metadata": {},
   "outputs": [],
   "source": [
    "# mapping columns "
   ]
  },
  {
   "cell_type": "code",
   "execution_count": 19,
   "id": "cf264603-f442-4c14-aeec-d834e53d0cce",
   "metadata": {},
   "outputs": [],
   "source": [
    "data['Status'] = data['Status'].map({'High Potential': 1, 'Low Potential': 0})\n"
   ]
  },
  {
   "cell_type": "code",
   "execution_count": 20,
   "id": "43c55df4-99f6-4f06-aa6e-da959fe843dc",
   "metadata": {},
   "outputs": [
    {
     "data": {
      "text/plain": [
       "Status\n",
       "0    4571\n",
       "1    2849\n",
       "Name: count, dtype: int64"
      ]
     },
     "execution_count": 20,
     "metadata": {},
     "output_type": "execute_result"
    }
   ],
   "source": [
    "data['Status'].value_counts()"
   ]
  },
  {
   "cell_type": "code",
   "execution_count": 21,
   "id": "d32f94da-2336-406b-abb3-e2ad12ebbc6f",
   "metadata": {},
   "outputs": [
    {
     "data": {
      "text/plain": [
       "Sales_Agent\n",
       "Sales-Agent-4     1523\n",
       "Sales-Agent-11    1420\n",
       "Sales-Agent-5     1190\n",
       "Sales-Agent-9      879\n",
       "Sales-Agent-3      781\n",
       "Sales-Agent-7      736\n",
       "Sales-Agent-2      389\n",
       "Sales-Agent-12     269\n",
       "Sales-Agent-6      114\n",
       "Sales-Agent-8       68\n",
       "Sales-Agent-10      47\n",
       "Sales-Agent-1        4\n",
       "Name: count, dtype: int64"
      ]
     },
     "execution_count": 21,
     "metadata": {},
     "output_type": "execute_result"
    }
   ],
   "source": [
    "data['Sales_Agent'].value_counts()"
   ]
  },
  {
   "cell_type": "code",
   "execution_count": 22,
   "id": "5fa8e2cb-b8c2-4aa1-ace4-f163ddef2558",
   "metadata": {},
   "outputs": [
    {
     "name": "stdout",
     "output_type": "stream",
     "text": [
      "0     1\n",
      "1    10\n",
      "2    10\n",
      "3    10\n",
      "4    10\n",
      "Name: Sales_Agent, dtype: int64\n"
     ]
    }
   ],
   "source": [
    "sales_agent_mapping = {\n",
    "    'Sales-Agent-4': 0,\n",
    "    'Sales-Agent-11': 1,\n",
    "    'Sales-Agent-5': 2,\n",
    "    'Sales-Agent-9': 3,\n",
    "    'Sales-Agent-3': 4,\n",
    "    'Sales-Agent-7': 5,\n",
    "    'Sales-Agent-2': 6,\n",
    "    'Sales-Agent-12': 7,\n",
    "    'Sales-Agent-6': 8,\n",
    "    'Sales-Agent-8': 9,\n",
    "    'Sales-Agent-10': 10,\n",
    "    'Sales-Agent-1': 11\n",
    "}\n",
    "\n",
    "data['Sales_Agent'] = data['Sales_Agent'].map(sales_agent_mapping)\n",
    "\n",
    "print(data['Sales_Agent'].head())\n"
   ]
  },
  {
   "cell_type": "code",
   "execution_count": 23,
   "id": "5fe5b0ee-21f2-4772-aa7e-b1ca6ff43b9e",
   "metadata": {},
   "outputs": [
    {
     "data": {
      "text/plain": [
       "Delivery_Mode\n",
       "Mode-5    2973\n",
       "Mode-1    2627\n",
       "Mode-3    1688\n",
       "Mode-4     121\n",
       "Mode-2      11\n",
       "Name: count, dtype: int64"
      ]
     },
     "execution_count": 23,
     "metadata": {},
     "output_type": "execute_result"
    }
   ],
   "source": [
    "data['Delivery_Mode'].value_counts()"
   ]
  },
  {
   "cell_type": "code",
   "execution_count": 24,
   "id": "958630fa-aee4-49f9-93ab-4918383dfb3c",
   "metadata": {},
   "outputs": [
    {
     "name": "stdout",
     "output_type": "stream",
     "text": [
      "0    0\n",
      "1    0\n",
      "2    0\n",
      "3    0\n",
      "4    0\n",
      "Name: Delivery_Mode, dtype: int64\n"
     ]
    }
   ],
   "source": [
    "delivery_mode_mapping = {\n",
    "    'Mode-5': 0,\n",
    "    'Mode-1': 1,\n",
    "    'Mode-3': 2,\n",
    "    'Mode-4': 3,\n",
    "    'Mode-2': 4\n",
    "}\n",
    "\n",
    "data['Delivery_Mode'] = data['Delivery_Mode'].map(delivery_mode_mapping)\n",
    "\n",
    "print(data['Delivery_Mode'].head())"
   ]
  },
  {
   "cell_type": "code",
   "execution_count": 25,
   "id": "115a786e-a9b1-4a93-b066-db8a97c443c8",
   "metadata": {},
   "outputs": [],
   "source": [
    "# Applying ohe to columns location and source "
   ]
  },
  {
   "cell_type": "code",
   "execution_count": 26,
   "id": "f04af3e8-d260-4227-8671-6b95b9f06771",
   "metadata": {},
   "outputs": [],
   "source": [
    "data = pd.get_dummies(data, columns=['Location','Source'], prefix=['Location','Source']).astype(int)\n"
   ]
  },
  {
   "cell_type": "code",
   "execution_count": 27,
   "id": "015340b5-9d7a-4e5e-a2b7-7544d01553c4",
   "metadata": {},
   "outputs": [],
   "source": [
    "# Applying Scaling to numerical columns"
   ]
  },
  {
   "cell_type": "code",
   "execution_count": 28,
   "id": "68088414-bf99-407b-b917-83198fe0aa26",
   "metadata": {},
   "outputs": [
    {
     "data": {
      "text/html": [
       "<div>\n",
       "<style scoped>\n",
       "    .dataframe tbody tr th:only-of-type {\n",
       "        vertical-align: middle;\n",
       "    }\n",
       "\n",
       "    .dataframe tbody tr th {\n",
       "        vertical-align: top;\n",
       "    }\n",
       "\n",
       "    .dataframe thead th {\n",
       "        text-align: right;\n",
       "    }\n",
       "</style>\n",
       "<table border=\"1\" class=\"dataframe\">\n",
       "  <thead>\n",
       "    <tr style=\"text-align: right;\">\n",
       "      <th></th>\n",
       "      <th>Product_ID</th>\n",
       "      <th>Month</th>\n",
       "    </tr>\n",
       "  </thead>\n",
       "  <tbody>\n",
       "    <tr>\n",
       "      <th>0</th>\n",
       "      <td>0.615385</td>\n",
       "      <td>1.0</td>\n",
       "    </tr>\n",
       "    <tr>\n",
       "      <th>1</th>\n",
       "      <td>0.615385</td>\n",
       "      <td>1.0</td>\n",
       "    </tr>\n",
       "    <tr>\n",
       "      <th>2</th>\n",
       "      <td>0.615385</td>\n",
       "      <td>1.0</td>\n",
       "    </tr>\n",
       "    <tr>\n",
       "      <th>3</th>\n",
       "      <td>0.615385</td>\n",
       "      <td>1.0</td>\n",
       "    </tr>\n",
       "    <tr>\n",
       "      <th>4</th>\n",
       "      <td>0.615385</td>\n",
       "      <td>1.0</td>\n",
       "    </tr>\n",
       "  </tbody>\n",
       "</table>\n",
       "</div>"
      ],
      "text/plain": [
       "   Product_ID  Month\n",
       "0    0.615385    1.0\n",
       "1    0.615385    1.0\n",
       "2    0.615385    1.0\n",
       "3    0.615385    1.0\n",
       "4    0.615385    1.0"
      ]
     },
     "execution_count": 28,
     "metadata": {},
     "output_type": "execute_result"
    }
   ],
   "source": [
    "columns_to_scale = ['Product_ID','Month']\n",
    "scaler = MinMaxScaler()\n",
    "data[columns_to_scale] = scaler.fit_transform(data[columns_to_scale])\n",
    "\n",
    "data[columns_to_scale].head()"
   ]
  },
  {
   "cell_type": "code",
   "execution_count": 29,
   "id": "a44d2079-6ef9-409a-bd89-99a08c7318ed",
   "metadata": {},
   "outputs": [],
   "source": [
    "data.to_pickle('data_feature_engineering.pkl')"
   ]
  }
 ],
 "metadata": {
  "kernelspec": {
   "display_name": "Python 3 (ipykernel)",
   "language": "python",
   "name": "python3"
  },
  "language_info": {
   "codemirror_mode": {
    "name": "ipython",
    "version": 3
   },
   "file_extension": ".py",
   "mimetype": "text/x-python",
   "name": "python",
   "nbconvert_exporter": "python",
   "pygments_lexer": "ipython3",
   "version": "3.11.7"
  }
 },
 "nbformat": 4,
 "nbformat_minor": 5
}
